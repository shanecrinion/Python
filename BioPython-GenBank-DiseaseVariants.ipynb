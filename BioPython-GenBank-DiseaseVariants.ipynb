{
 "cells": [
  {
   "cell_type": "markdown",
   "metadata": {},
   "source": [
    "### BioPython: GenBank Data Extraction & Disease Variant Identification \n",
    "\n",
    "Hereditary hemochromatosis is an autosomal recessive disease in which the body’s iron stores are increased, with serious negative effects on the function of several organs (liver cirrhosis, diabetes mellitus, heart failure among others). This disease has an unusually high incidence rate among the settled populations of north western europe, most especially in Ireland, where the incidence rate is estimated to be almost 1 in 100. Although a complex disorder, the the HFE gene is known to play a dominant role in hereditary hemochromatosis. Most patients with manifest hereditary hemochromatosis are homozygous for the C282Y (Cys282Tyr) mutation (https://www.snpedia.com/index.php/Rs1800562), a transition point mutation from guanine to adenine (G -> A) at nucleotide 845 in the gene's coding sequence - this results in a missense mutation, replacing the cysteine residue at position 282 with a tyrosine amino acid. This change disrupts correct formation of the HFE protein, interfering with its ability to regulate iron intake, in effect resulting in an increase in iron, with associated deleterious effects.\n",
    "\n",
    "The reference gene sequence for the human variant of HFE in the GenBank archive has the accession code NG_008720 - this includes all coding and non-coding sequences annotated at this genomic locus in chromosome 6. "
   ]
  },
  {
   "cell_type": "markdown",
   "metadata": {},
   "source": [
    "*Use BioPython utilities to:*\n",
    "\n",
    "#### 1. *Download the SeqRecord for this accession.*\n",
    "\n",
    "The sequence record is got through a data parser. The GenBank information for HFE is obtained by using Entrez.\n",
    "\n",
    "Entrez is a search and retrival system used by NCBI to search major databases such as PubMed, nucleotide and protein sequences, taxonomy, etc. \n",
    "        \n",
    "- \"efetch\" retrieves records in the requested format from a list of one or more primary IDs or from the user's environment\n",
    "- \"db\" specifies the database to search in NCBI.\n",
    "- \"rettype\" specifies the retrival type and can be either uilist or count.\n",
    "- \"retmode\" determines the format of the returned output.\n",
    "- \"id\" is used to find the individual gene."
   ]
  },
  {
   "cell_type": "code",
   "execution_count": 9,
   "metadata": {},
   "outputs": [
    {
     "name": "stdout",
     "output_type": "stream",
     "text": [
      "<class 'Bio.SeqRecord.SeqRecord'>\n"
     ]
    }
   ],
   "source": [
    "from Bio import Entrez\n",
    "from Bio import SeqIO\n",
    "\n",
    "try:\n",
    "\n",
    "    Entrez.email = \"A.N.Other@example.com\"   #dummy email generated to avoid error\n",
    "    \n",
    "    #\n",
    "    handle = Entrez.efetch(db=\"nucleotide\", rettype=\"gb\", retmode=\"text\", id=\"NG_008720\") # handle is our link to NCBI\n",
    "\n",
    "    HFE = SeqIO.read(handle, \"gb\") #variable coordinating with HFE and obtained through NCBI database search in GenBank\n",
    "\n",
    "    handle.close()\n",
    "\n",
    "    print(type(HFE))  # connection closed. now confirm it is a sequence record.\n",
    "\n",
    "except:\n",
    "\n",
    "    print('Failed to fetch record.') "
   ]
  },
  {
   "cell_type": "markdown",
   "metadata": {},
   "source": [
    "You can now access the ID and name by using the HDE"
   ]
  },
  {
   "cell_type": "code",
   "execution_count": 3,
   "metadata": {},
   "outputs": [
    {
     "name": "stdout",
     "output_type": "stream",
     "text": [
      "NG_008720.2\n",
      "NG_008720\n"
     ]
    }
   ],
   "source": [
    "print(HFE.id) # pulls the ID from the NCBI website.\n",
    "print(HFE.name) # pulls the name from the NCBI website."
   ]
  },
  {
   "cell_type": "markdown",
   "metadata": {},
   "source": [
    "#### 2. *Extract the coding sequence for the HFE gene from the GenBank record (that is the concantenated exon sequences).*"
   ]
  },
  {
   "cell_type": "markdown",
   "metadata": {},
   "source": [
    "By calling the features, we can obtain information about exons, mRNA and the coding sequence (CDS).  "
   ]
  },
  {
   "cell_type": "code",
   "execution_count": 4,
   "metadata": {},
   "outputs": [
    {
     "name": "stdout",
     "output_type": "stream",
     "text": [
      "type: source\n",
      "location: [0:18063](+)\n",
      "qualifiers:\n",
      "    Key: chromosome, Value: ['6']\n",
      "    Key: db_xref, Value: ['taxon:9606']\n",
      "    Key: map, Value: ['6p22.2']\n",
      "    Key: mol_type, Value: ['genomic DNA']\n",
      "    Key: organism, Value: ['Homo sapiens']\n",
      "\n",
      "type: gene\n",
      "location: [4009:8754](-)\n",
      "qualifiers:\n",
      "    Key: db_xref, Value: ['GeneID:108783645']\n",
      "    Key: gene, Value: ['LOC108783645']\n",
      "    Key: note, Value: ['HFE antisense RNA']\n",
      "\n",
      "type: ncRNA\n",
      "location: join{[8442:8754](-), [4009:5882](-)}\n",
      "qualifiers:\n",
      "    Key: db_xref, Value: ['GeneID:108783645']\n",
      "    Key: gene, Value: ['LOC108783645']\n",
      "    Key: ncRNA_class, Value: ['antisense_RNA']\n",
      "    Key: product, Value: ['HFE antisense RNA']\n",
      "    Key: transcript_id, Value: ['NR_144383.1']\n",
      "\n",
      "type: gene\n",
      "location: [5000:12961](+)\n",
      "qualifiers:\n",
      "    Key: db_xref, Value: ['GeneID:3077', 'HGNC:HGNC:4886', 'MIM:613609']\n",
      "    Key: gene, Value: ['HFE']\n",
      "    Key: gene_synonym, Value: ['HFE1; HH; HLA-H; MVCD7; TFQTL2']\n",
      "    Key: note, Value: ['homeostatic iron regulator']\n",
      "\n",
      "type: mRNA\n",
      "location: join{[5000:5236](+), [8560:8824](+), [9033:9309](+), [10404:10680](+), [10838:10952](+), [11905:12961](+)}\n",
      "qualifiers:\n",
      "    Key: db_xref, Value: ['GeneID:3077', 'LRG:t1', 'HGNC:HGNC:4886', 'MIM:613609']\n",
      "    Key: gene, Value: ['HFE']\n",
      "    Key: gene_synonym, Value: ['HFE1; HH; HLA-H; MVCD7; TFQTL2']\n",
      "    Key: product, Value: ['homeostatic iron regulator, transcript variant 1']\n",
      "    Key: transcript_id, Value: ['NM_000410.3']\n",
      "\n",
      "type: exon\n",
      "location: [5000:5236](+)\n",
      "qualifiers:\n",
      "    Key: gene, Value: ['HFE']\n",
      "    Key: gene_synonym, Value: ['HFE1; HH; HLA-H; MVCD7; TFQTL2']\n",
      "    Key: inference, Value: ['alignment:Splign:1.39.8']\n",
      "    Key: number, Value: ['1']\n",
      "\n",
      "type: CDS\n",
      "location: join{[5160:5236](+), [8560:8824](+), [9033:9309](+), [10404:10680](+), [10838:10952](+), [11905:11946](+)}\n",
      "qualifiers:\n",
      "    Key: codon_start, Value: ['1']\n",
      "    Key: db_xref, Value: ['CCDS:CCDS4578.1', 'GeneID:3077', 'LRG:p1', 'HGNC:HGNC:4886', 'MIM:613609']\n",
      "    Key: gene, Value: ['HFE']\n",
      "    Key: gene_synonym, Value: ['HFE1; HH; HLA-H; MVCD7; TFQTL2']\n",
      "    Key: note, Value: ['isoform 1 precursor is encoded by transcript variant 1; high Fe; MHC class I-like protein HFE; hereditary hemochromatosis protein HLA-H']\n",
      "    Key: product, Value: ['hereditary hemochromatosis protein isoform 1 precursor']\n",
      "    Key: protein_id, Value: ['NP_000401.1']\n",
      "    Key: translation, Value: ['MGPRARPALLLLMLLQTAVLQGRLLRSHSLHYLFMGASEQDLGLSLFEALGYVDDQLFVFYDHESRRVEPRTPWVSSRISSQMWLQLSQSLKGWDHMFTVDFWTIMENHNHSKESHTLQVILGCEMQEDNSTEGYWKYGYDGQDHLEFCPDTLDWRAAEPRAWPTKLEWERHKIRARQNRAYLERDCPAQLQQLLELGRGVLDQQVPPLVKVTHHVTSSVTTLRCRALNYYPQNITMKWLKDKQPMDAKEFEPKDVLPNGDGTYQGWITLAVPPGEEQRYTCQVEHPGLDQPLIVIWEPSPSGTLVIGVISGIAVFVVILFIGILFIILRKRQGSRGAMGHYVLAERE']\n",
      "\n",
      "type: exon\n",
      "location: [8560:8824](+)\n",
      "qualifiers:\n",
      "    Key: gene, Value: ['HFE']\n",
      "    Key: gene_synonym, Value: ['HFE1; HH; HLA-H; MVCD7; TFQTL2']\n",
      "    Key: inference, Value: ['alignment:Splign:1.39.8']\n",
      "    Key: number, Value: ['2']\n",
      "\n",
      "type: exon\n",
      "location: [9033:9309](+)\n",
      "qualifiers:\n",
      "    Key: gene, Value: ['HFE']\n",
      "    Key: gene_synonym, Value: ['HFE1; HH; HLA-H; MVCD7; TFQTL2']\n",
      "    Key: inference, Value: ['alignment:Splign:1.39.8']\n",
      "    Key: number, Value: ['3']\n",
      "\n",
      "type: exon\n",
      "location: [10404:10680](+)\n",
      "qualifiers:\n",
      "    Key: gene, Value: ['HFE']\n",
      "    Key: gene_synonym, Value: ['HFE1; HH; HLA-H; MVCD7; TFQTL2']\n",
      "    Key: inference, Value: ['alignment:Splign:1.39.8']\n",
      "    Key: number, Value: ['4']\n",
      "\n",
      "type: exon\n",
      "location: [10838:10952](+)\n",
      "qualifiers:\n",
      "    Key: gene, Value: ['HFE']\n",
      "    Key: gene_synonym, Value: ['HFE1; HH; HLA-H; MVCD7; TFQTL2']\n",
      "    Key: inference, Value: ['alignment:Splign:1.39.8']\n",
      "    Key: number, Value: ['5']\n",
      "\n",
      "type: exon\n",
      "location: [11905:12961](+)\n",
      "qualifiers:\n",
      "    Key: gene, Value: ['HFE']\n",
      "    Key: gene_synonym, Value: ['HFE1; HH; HLA-H; MVCD7; TFQTL2']\n",
      "    Key: inference, Value: ['alignment:Splign:1.39.8']\n",
      "    Key: number, Value: ['6']\n",
      "\n"
     ]
    }
   ],
   "source": [
    "for i in HFE.features: \n",
    "    print(i)"
   ]
  },
  {
   "cell_type": "code",
   "execution_count": 200,
   "metadata": {},
   "outputs": [
    {
     "name": "stdout",
     "output_type": "stream",
     "text": [
      "<class 'list'>\n"
     ]
    }
   ],
   "source": [
    "print(type(HFE.features))"
   ]
  },
  {
   "cell_type": "markdown",
   "metadata": {},
   "source": [
    "From the features information that is obtained from GenBank, I can use the exon locations and concatenate them together. The coding region locations are found from the \"CDS\" section. They are concatenated together using a for loop. "
   ]
  },
  {
   "cell_type": "code",
   "execution_count": 5,
   "metadata": {},
   "outputs": [
    {
     "name": "stdout",
     "output_type": "stream",
     "text": [
      "ATGGGCCCGCGAGCCAGGCCGGCGCTTCTCCTCCTGATGCTTTTGCAGACCGCGGTCCTGCAGGGGCGCTTGCTGCGTTCACACTCTCTGCACTACCTCTTCATGGGTGCCTCAGAGCAGGACCTTGGTCTTTCCTTGTTTGAAGCTTTGGGCTACGTGGATGACCAGCTGTTCGTGTTCTATGATCATGAGAGTCGCCGTGTGGAGCCCCGAACTCCATGGGTTTCCAGTAGAATTTCAAGCCAGATGTGGCTGCAGCTGAGTCAGAGTCTGAAAGGGTGGGATCACATGTTCACTGTTGACTTCTGGACTATTATGGAAAATCACAACCACAGCAAGGAGTCCCACACCCTGCAGGTCATCCTGGGCTGTGAAATGCAAGAAGACAACAGTACCGAGGGCTACTGGAAGTACGGGTATGATGGGCAGGACCACCTTGAATTCTGCCCTGACACACTGGATTGGAGAGCAGCAGAACCCAGGGCCTGGCCCACCAAGCTGGAGTGGGAAAGGCACAAGATTCGGGCCAGGCAGAACAGGGCCTACCTGGAGAGGGACTGCCCTGCACAGCTGCAGCAGTTGCTGGAGCTGGGGAGAGGTGTTTTGGACCAACAAGTGCCTCCTTTGGTGAAGGTGACACATCATGTGACCTCTTCAGTGACCACTCTACGGTGTCGGGCCTTGAACTACTACCCCCAGAACATCACCATGAAGTGGCTGAAGGATAAGCAGCCAATGGATGCCAAGGAGTTCGAACCTAAAGACGTATTGCCCAATGGGGATGGGACCTACCAGGGCTGGATAACCTTGGCTGTACCCCCTGGGGAAGAGCAGAGATATACGTGCCAGGTGGAGCACCCAGGCCTGGATCAGCCCCTCATTGTGATCTGGGAGCCCTCACCGTCTGGCACCCTAGTCATTGGAGTCATCAGTGGAATTGCTGTTTTTGTCGTCATCTTGTTCATTGGAATTTTGTTCATAATATTAAGGAAGAGGCAGGGTTCAAGAGGAGCCATGGGGCACTACGTCTTAGCTGAACGTGAGTGA\n"
     ]
    }
   ],
   "source": [
    "coding = ([5160,5236], [8560,8824], [9033,9309], [10404,10680], [10838,10952], [11905,11946])\n",
    "\n",
    "conc_exons = \"\"\n",
    "for i in coding:\n",
    "    exon = HFE.seq[i[0]:i[1]]\n",
    "    conc_exons = conc_exons + exon\n",
    "print(conc_exons)"
   ]
  },
  {
   "cell_type": "markdown",
   "metadata": {},
   "source": [
    "#### *3. Use the .translate() method to create the amino acid sequence from your determined full sequence and compare your estimate with the amino acid sequence available in the GenBank record. Demonstrate they agree!*"
   ]
  },
  {
   "cell_type": "markdown",
   "metadata": {},
   "source": [
    "The final nucleotide is removed from the sequence of concatenated amino acids for comparison. "
   ]
  },
  {
   "cell_type": "code",
   "execution_count": 36,
   "metadata": {},
   "outputs": [
    {
     "name": "stdout",
     "output_type": "stream",
     "text": [
      "MGPRARPALLLLMLLQTAVLQGRLLRSHSLHYLFMGASEQDLGLSLFEALGYVDDQLFVFYDHESRRVEPRTPWVSSRISSQMWLQLSQSLKGWDHMFTVDFWTIMENHNHSKESHTLQVILGCEMQEDNSTEGYWKYGYDGQDHLEFCPDTLDWRAAEPRAWPTKLEWERHKIRARQNRAYLERDCPAQLQQLLELGRGVLDQQVPPLVKVTHHVTSSVTTLRCRALNYYPQNITMKWLKDKQPMDAKEFEPKDVLPNGDGTYQGWITLAVPPGEEQRYTCQVEHPGLDQPLIVIWEPSPSGTLVIGVISGIAVFVVILFIGILFIILRKRQGSRGAMGHYVLAERE\n"
     ]
    }
   ],
   "source": [
    "HFE_protein = conc_exons.translate()\n",
    "HFE_protein = HFE_protein[:-1] # -1 to remove the ambiguous nucletide\n",
    "print(HFE_protein) "
   ]
  },
  {
   "cell_type": "markdown",
   "metadata": {},
   "source": [
    "From the SeqRecord sequence, the translation of the coding sequence is obtained. A conditional \"if\" is created to recognise whether the generated translated sequence and the database obtained translated sequence are the same. "
   ]
  },
  {
   "cell_type": "code",
   "execution_count": 37,
   "metadata": {},
   "outputs": [
    {
     "name": "stdout",
     "output_type": "stream",
     "text": [
      "The translated sequence for HFE matches the GenBank sequence!\n"
     ]
    }
   ],
   "source": [
    "for i in HFE.features[6].qualifiers['translation']: # 6 contains the CDS \n",
    "    db_trans = i # assign the database obtained translation to i \n",
    "    if db_trans == HFE_protein: \n",
    "        print('The translated sequence for HFE matches the GenBank sequence!')\n",
    "    else: \n",
    "        print('The translated sequence for HFE does not match the GenBank sequence!')\n",
    "        "
   ]
  },
  {
   "cell_type": "markdown",
   "metadata": {},
   "source": [
    "#### *4. Use this coding sequence to determine what the status is of this locus in this reference gene record for HEF (i.e. what is the nucleotide value at position 845 in HEF's coding sequence).*"
   ]
  },
  {
   "cell_type": "markdown",
   "metadata": {},
   "source": [
    "Position 845 is obtained by calling 844 as R starts counting at 0. The nucleotide guanine indicates a normal nucleotide. The nucleotide adenine indicates a point mutation associated with hereditary hemochromatosis. "
   ]
  },
  {
   "cell_type": "code",
   "execution_count": 35,
   "metadata": {},
   "outputs": [
    {
     "name": "stdout",
     "output_type": "stream",
     "text": [
      "The nucleotide at this position is is guanine and is healthy.\n"
     ]
    }
   ],
   "source": [
    "if conc_exons[844] == \"G\": # check if healthy\n",
    "    print(\"The nucleotide at this position is is guanine and is healthy.\")\n",
    "if conc_exons[844] == \"A\": # check if missense mutation\n",
    "    print(\"The nucleotide at this position is adenine and is hereditary hemochromatosis causing.\")"
   ]
  },
  {
   "cell_type": "markdown",
   "metadata": {},
   "source": [
    "#### *5. Determine which of the exons associated with the HEF gene contains the C282Y locus (i.e. is the first, second?).*\n",
    "\n",
    "The for loop from earlier can be used again but this time include a counter. The counter will return the exon number for the region that contains missense coded protein. To thi"
   ]
  },
  {
   "cell_type": "code",
   "execution_count": 68,
   "metadata": {},
   "outputs": [
    {
     "name": "stdout",
     "output_type": "stream",
     "text": [
      "The exon associated with the C282Y locus is exon number 4\n"
     ]
    }
   ],
   "source": [
    "conc_exons = ''  #\n",
    "count = 0\n",
    "for i in coding:\n",
    "    exon = HFE.seq[i[0]:i[1]]\n",
    "    conc_exons = conc_exons + exon\n",
    "    count = count + 1\n",
    "    if len(conc_exons) in range(800,900):        \n",
    "        print(\"The exon associated with the C282Y locus is exon number\", count)"
   ]
  },
  {
   "cell_type": "markdown",
   "metadata": {},
   "source": [
    "#### *6. Determine which restriction enzymes are suitable for disease variant testing.*\n",
    "\n",
    "*One of the standard ways in which such disease variants are identified is by the use of PCR & restriction enzymes - in short a primer is prepared nearby to the proposed SNP site, and the amplified PCR products, typically 100-200 bases in length, are digested with an enzyme specific to the SNP location. The difference in fragment populations is then used to segment wild type from heterozygous/homozygous populations. Using the CDS sequence you have extracted from the GenBank record, create two amplicon sequences of length 100 bases either side of the C282Y nucleotide location, with one having the 'G' variant and the other the disease 'A' variant. For this final question you are to take both 'amplicon' sequences and to determine if any of the following restriction enzymes would be suitable for such a test (where the '/' character corresponds to where the cleaving occurs in the DNA:*\n",
    "    - HinfI (G/ANTC)\n",
    "    - RsaI (GT/AC)\n",
    "    - EcoRI (G/AATTC) "
   ]
  },
  {
   "cell_type": "markdown",
   "metadata": {},
   "source": [
    "**For the original sequence:**\n",
    "\n",
    "First, import the required BioPython facilites to test restriction sites for suitability. Create an amplicon 200 base pairs in length for use with the restriction model sites. Convert to a string. Determine how each restriction sites works. "
   ]
  },
  {
   "cell_type": "code",
   "execution_count": 69,
   "metadata": {},
   "outputs": [
    {
     "name": "stdout",
     "output_type": "stream",
     "text": [
      "No EcoRI sites found in the normal variant sequence.\n",
      "1 RsaI site(s) found in the normal variant sequence at position(s) [72]\n",
      "1 HinfI site(s) found in the normal variant sequence at position(s) [180]\n"
     ]
    }
   ],
   "source": [
    "from Bio import Restriction\n",
    "from Bio.Restriction import *\n",
    "from Bio.Seq import Seq\n",
    "from Bio.Alphabet.IUPAC import IUPACAmbiguousDNA\n",
    "amb = IUPACAmbiguousDNA()\n",
    "\n",
    "amplicon1 =  conc_exons[744:944] # amplicon of healthy sequence\n",
    "strexons = str(amplicon1) # convert to string for testing suitability \n",
    "my_seq = Seq(strexons, amb) \n",
    "\n",
    "# EcoRI sites \n",
    "if len(EcoRI.search(my_seq)) > 0:\n",
    "    print(len(EcoRI.search(my_seq)), \"EcoRI site(s) found in the normal variant sequence at position \", EcoRI.search(my_seq))\n",
    "else:\n",
    "    print(\"No EcoRI sites found in the normal variant sequence.\")\n",
    "\n",
    "# RsaI sites\n",
    "if len(RsaI.search(my_seq)) > 0:\n",
    "    print(len(RsaI.search(my_seq)), \"RsaI site(s) found in the normal variant sequence at position(s)\", RsaI.search(my_seq))\n",
    "else:\n",
    "    print(\"No RsaI sites found in the normal variant sequence.\")\n",
    "\n",
    "if len(HinfI.search(my_seq)) > 0:\n",
    "    print(len(HinfI.search(my_seq)), \"HinfI site(s) found in the normal variant sequence at position(s)\", HinfI.search(my_seq))\n",
    "else:\n",
    "    print(\"No HinfI site(s) found in the normal variant sequence.\")\n"
   ]
  },
  {
   "cell_type": "markdown",
   "metadata": {},
   "source": [
    "**For the mutated sequence:**\n",
    "\n",
    "Create a new sequence variable with the mutatation nucleotide. Do this by converting to a list and then testing each one for restriction sites. "
   ]
  },
  {
   "cell_type": "code",
   "execution_count": 71,
   "metadata": {},
   "outputs": [
    {
     "name": "stdout",
     "output_type": "stream",
     "text": [
      "A\n",
      "No EcoRI sites found in the mutated variant containing sequence.\n",
      "2 RsaI sites found in the mutated variant containing sequence at position(s) [72, 101]\n",
      "1 HinfI sites found in the mutated variant containing sequence at position(s) [180]\n"
     ]
    }
   ],
   "source": [
    "conc_exons = list(conc_exons) # convert to a list to change the nucleotide\n",
    "conc_exons[844] = \"A\" # convert from G to A\n",
    "mutated = \"\".join(conc_exons)  # rejoin as a string again\n",
    "\n",
    "\n",
    "amplicon2 =  mutated[744:944] # amplicon of disease sequence\n",
    "print(amplicon2[100]) # confirm mutated nucleotide in correct position\n",
    "\n",
    "strexons = str(amplicon2) # convert to string\n",
    "my_seq = Seq(strexons, amb) # use function to convert to sequence and use universal sequences for ambigous DNA\n",
    "\n",
    "if len(EcoRI.search(my_seq)) > 0:\n",
    "    print(len(EcoRI.search(my_seq)), \"EcoRI sites found in the mutated variant containing sequence at position \", EcoRI.search(my_seq))\n",
    "else:\n",
    "    print(\"No EcoRI sites found in the mutated variant containing sequence.\")\n",
    "\n",
    "# RsaI sites\n",
    "if len(RsaI.search(my_seq)) > 0:\n",
    "    print(len(RsaI.search(my_seq)), \"RsaI sites found in the mutated variant containing sequence at position(s)\", RsaI.search(my_seq))\n",
    "else:\n",
    "    print(\"No RsaI sites found in the mutated variant containing sequence.\")\n",
    "\n",
    "if len(HinfI.search(my_seq)) > 0:\n",
    "    print(len(HinfI.search(my_seq)), \"HinfI sites found in the mutated variant containing sequence at position(s)\", HinfI.search(my_seq))\n",
    "else:\n",
    "    print(\"No HinfI site(s) found in the mutated variant containing sequence.\")\n",
    " "
   ]
  },
  {
   "cell_type": "markdown",
   "metadata": {},
   "source": [
    "The RsaI site is suitable as the restriction enzyme to use as it can cut the sequence at the region of the mutated nucleotide. The EcoRI and HinfI sites do not show any indication as to where the cut is which indicates that these would not be suitable. "
   ]
  }
 ],
 "metadata": {
  "kernelspec": {
   "display_name": "Python 3",
   "language": "python",
   "name": "python3"
  },
  "language_info": {
   "codemirror_mode": {
    "name": "ipython",
    "version": 3
   },
   "file_extension": ".py",
   "mimetype": "text/x-python",
   "name": "python",
   "nbconvert_exporter": "python",
   "pygments_lexer": "ipython3",
   "version": "3.7.1"
  }
 },
 "nbformat": 4,
 "nbformat_minor": 2
}
